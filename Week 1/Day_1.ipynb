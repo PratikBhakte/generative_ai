{
 "cells": [
  {
   "cell_type": "markdown",
   "id": "cf0821af-ccaa-41d4-8fa6-46014f652ca3",
   "metadata": {},
   "source": [
    "# Generative AI Day 1"
   ]
  },
  {
   "cell_type": "markdown",
   "id": "ea44eb10-e23b-4b51-83c7-2077f56a158c",
   "metadata": {},
   "source": [
    "## Import required libraries"
   ]
  },
  {
   "cell_type": "code",
   "execution_count": null,
   "id": "1712ac03-0589-4e32-8291-b56048ee6e6c",
   "metadata": {},
   "outputs": [],
   "source": [
    "import os\n",
    "import requests\n",
    "from dotenv import load_dotenv\n",
    "from bs4 import BeautifulSoup\n",
    "from IPython.display import Markdown, display\n",
    "from openai import OpenAI"
   ]
  },
  {
   "cell_type": "markdown",
   "id": "966344f6-ddae-4eb1-b7ce-619d5e064dfb",
   "metadata": {},
   "source": [
    "## About the imports\n",
    "\n",
    "\n",
    "  - **os**: Provides a portable way to interact with the operating system.\n",
    "    \n",
    "  - **requests**: Simplifies making HTTP web requests.\n",
    "  - **load_dotenv**: Loads environment variables from a .env file into Python application's environment.\n",
    "  - **BeautifulSoup**: Library used for parsing HTML and XML documents.\n",
    "  - **Markdown**: Used to render Markdown-formatted text in a visually styled format.\n",
    "  - **display**: A generic function that renders objects in appropriate formats.\n",
    "  - **OpenAI**: Allows to interact with OpenAI's AI models"
   ]
  },
  {
   "cell_type": "markdown",
   "id": "f23cde7a-1722-4b4d-b843-105a7c7268dc",
   "metadata": {},
   "source": [
    "## Connecting to OpenAI"
   ]
  },
  {
   "cell_type": "markdown",
   "id": "5cefcd40-3437-4c6a-9e16-eaa15834dc38",
   "metadata": {},
   "source": [
    "### Load the secret key in current Python environment"
   ]
  },
  {
   "cell_type": "code",
   "execution_count": null,
   "id": "0c0d22ec-09c2-4af6-85b3-9182141ef1bb",
   "metadata": {},
   "outputs": [],
   "source": [
    "load_dotenv(override=True)\n",
    "api_key = os.getenv('OPENAI_API_KEY')\n",
    "\n",
    "if not api_key:\n",
    "    print(\"No API key was found\")\n",
    "elif not api_key.startswith(\"sk-proj-\"):\n",
    "    print(\"An API key was found but seems it is not starting with 'sk-proj-'\")\n",
    "elif api_key.strip() != api_key:\n",
    "    print(\"An API key was found, but it looks like it might have space or tab characters at the start or end\")\n",
    "else:\n",
    "    print(\"API key found and looks good so far\")\n",
    "    "
   ]
  },
  {
   "cell_type": "markdown",
   "id": "ed0aec51-ef32-4482-9a99-936a66961c62",
   "metadata": {},
   "source": [
    "### Create object of OpenAI class using `OpenAI()` function"
   ]
  },
  {
   "cell_type": "code",
   "execution_count": null,
   "id": "6bc9887d-5236-443d-bf08-1bf2ae5f0bda",
   "metadata": {},
   "outputs": [],
   "source": [
    "openai = OpenAI()"
   ]
  },
  {
   "cell_type": "markdown",
   "id": "184ee27d-1d55-46f6-a0d4-8ff14d47f8e5",
   "metadata": {},
   "source": [
    "### Let's make a quick call to a Frontier model to get started, as a preview!"
   ]
  },
  {
   "cell_type": "code",
   "execution_count": null,
   "id": "9d4cc3a4-a0a9-44d0-a664-7e9ecc0112cd",
   "metadata": {},
   "outputs": [],
   "source": [
    "message = \"Hello, GPT! This is my first ever message to you! Hi!\"\n",
    "response = openai.chat.completions.create(model=\"gpt-4o-mini\", messages=[{\"role\": \"user\", \"content\": message}])\n",
    "print(response.choices[0].message.content)"
   ]
  },
  {
   "cell_type": "markdown",
   "id": "fb69a5bc-84cf-43d2-9a97-2afb2d5289e5",
   "metadata": {},
   "source": [
    "## Let's start with our first project"
   ]
  },
  {
   "cell_type": "code",
   "execution_count": null,
   "id": "7469ae0d-cc13-41a7-9840-15c7fd84df08",
   "metadata": {},
   "outputs": [],
   "source": [
    "# A class to represent a Webpage\n",
    "\n",
    "# Some websites need you to use proper headers when fetching them:\n",
    "headers = {\n",
    "    \"User-Agent\": \"Mozilla/5.0 (Windows NT 10.0; Win64; x64) AppleWebKit/537.36 (KHTML, like Gecko) Chrome/117.0.0.0 Safari/537.36\"\n",
    "}\n",
    "\n",
    "class Website:\n",
    "    def __init__(self, url):\n",
    "        \"\"\"\n",
    "            Create this Website object from the given url using the BeautifulSoup library\n",
    "        \"\"\"\n",
    "        self.url = url\n",
    "        response = requests.get(url, headers=headers)\n",
    "        soup = BeautifulSoup(response.content, 'html.parser')\n",
    "        self.title = soup.title.string if soup.title else \"No title found\"\n",
    "        for irrelevant in soup.body([\"script\", \"style\", \"img\", \"input\"]):\n",
    "            irrelevant.decompose()\n",
    "        self.text = soup.body.get_text(separator=\"\\n\", strip=True)"
   ]
  },
  {
   "cell_type": "code",
   "execution_count": null,
   "id": "b46b43cd-a61d-4966-902a-8eab99023b70",
   "metadata": {},
   "outputs": [],
   "source": [
    "pmo = Website(\"https://www.pmindia.gov.in/en/message-from-the-prime-minister/\")\n",
    "print(pmo.title)\n",
    "print(pmo.text)"
   ]
  },
  {
   "cell_type": "markdown",
   "id": "21e20c97-981a-48af-952a-e159ab91b373",
   "metadata": {},
   "source": [
    "### Types of prompts\n",
    "- **A user prompt**: the conversation starter that LLM should reply to.\n",
    "  \n",
    "- **A system prompt**: this tells them what task LLM are performing and what tone LLM should use."
   ]
  },
  {
   "cell_type": "code",
   "execution_count": null,
   "id": "ee216dc0-b829-4013-a634-9bb7ba0e6c80",
   "metadata": {},
   "outputs": [],
   "source": [
    "system_prompt = \"You are an assistant that analyzes the contents of a website \\\n",
    "and provides a short summary, ignoring text that might be navigation related. \\\n",
    "Respond in markdown.\""
   ]
  },
  {
   "cell_type": "code",
   "execution_count": null,
   "id": "42fb6ab8-ea52-46c2-8245-c0027c7f6ce8",
   "metadata": {},
   "outputs": [],
   "source": [
    "# Function that writes a User prompt\n",
    "def user_prompt_for(website):\n",
    "    user_prompt = f\"You are looking at a website titled{website.title}\"\n",
    "    user_prompt += \"\\nThe contents of this website is as follows; \\\n",
    "please provide a short summary of this website in markdown. \\\n",
    "If it includes news or announcements, then summarize these too.\\n\\n\"\n",
    "    user_prompt += website.text\n",
    "    return user_prompt"
   ]
  },
  {
   "cell_type": "code",
   "execution_count": null,
   "id": "749f5092-9fcc-4e04-9255-b6d5942cbb26",
   "metadata": {},
   "outputs": [],
   "source": [
    "print(user_prompt_for(pmo))"
   ]
  },
  {
   "cell_type": "markdown",
   "id": "205493eb-bfac-401d-8f1d-6c718354297a",
   "metadata": {},
   "source": [
    "### Messages\n",
    "The API from OpenAI expects to receive messages in a particular structure. Many of the other API's share this structure:\n",
    "\n",
    "`[\n",
    "    {\"role\": \"system\", \"content\": \"system message goes here\"},\n",
    "    {\"role\": \"user\", \"content\": \"user message goes here\"}\n",
    "    ]`\n",
    "\n",
    "So, now lets build useful messages for GPT-4o-mini, using a function."
   ]
  },
  {
   "cell_type": "code",
   "execution_count": null,
   "id": "1941d026-f4b8-4f6f-814f-78d6fec95c4e",
   "metadata": {},
   "outputs": [],
   "source": [
    "def messages_for(website):\n",
    "    return [\n",
    "        {\"role\": \"system\", \"content\": system_prompt},\n",
    "        {\"role\": \"user\", \"content\": user_prompt_for(website)}\n",
    "    ]"
   ]
  },
  {
   "cell_type": "code",
   "execution_count": null,
   "id": "66877a85-0fc3-41d2-86b4-236d12f401d9",
   "metadata": {},
   "outputs": [],
   "source": [
    "messages_for(pmo)"
   ]
  },
  {
   "cell_type": "markdown",
   "id": "e1a3adb2-ab53-4cca-8196-2066b7202683",
   "metadata": {},
   "source": [
    "### Now let's bring it all together"
   ]
  },
  {
   "cell_type": "code",
   "execution_count": null,
   "id": "c6abe237-390a-474b-9c7b-e5c553c5a4ff",
   "metadata": {},
   "outputs": [],
   "source": [
    "def summerize(url):\n",
    "    website = Website(url)\n",
    "    response = openai.chat.completions.create(\n",
    "        model=\"gpt-4o-mini\",\n",
    "        messages=messages_for(website)\n",
    "    )\n",
    "    return response.choices[0].message.content "
   ]
  },
  {
   "cell_type": "code",
   "execution_count": null,
   "id": "7230a2a6-7c8c-442b-969f-7e420dfda75b",
   "metadata": {},
   "outputs": [],
   "source": [
    "summerize(\"https://www.pmindia.gov.in/en/message-from-the-prime-minister/\")"
   ]
  },
  {
   "cell_type": "code",
   "execution_count": null,
   "id": "7316ab32-8281-41ca-8c8c-b1788d2233d8",
   "metadata": {},
   "outputs": [],
   "source": [
    "def display_summary(url):\n",
    "    summary = summerize(url)\n",
    "    display(Markdown(summary))"
   ]
  },
  {
   "cell_type": "code",
   "execution_count": null,
   "id": "0a0d986d-d19c-4ee5-9fa5-975372c4788a",
   "metadata": {},
   "outputs": [],
   "source": [
    "display_summary(\"https://www.pmindia.gov.in/en/message-from-the-prime-minister/\")"
   ]
  }
 ],
 "metadata": {
  "kernelspec": {
   "display_name": "Python 3 (ipykernel)",
   "language": "python",
   "name": "python3"
  },
  "language_info": {
   "codemirror_mode": {
    "name": "ipython",
    "version": 3
   },
   "file_extension": ".py",
   "mimetype": "text/x-python",
   "name": "python",
   "nbconvert_exporter": "python",
   "pygments_lexer": "ipython3",
   "version": "3.11.11"
  }
 },
 "nbformat": 4,
 "nbformat_minor": 5
}
